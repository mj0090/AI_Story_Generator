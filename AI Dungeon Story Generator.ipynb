{
 "cells": [
  {
   "cell_type": "code",
   "execution_count": 1,
   "id": "fd85e10a-6acf-4b25-ba84-043c7b859286",
   "metadata": {},
   "outputs": [],
   "source": [
    "from transformers import pipeline, set_seed\n",
    "import gradio as gr\n",
    "import datetime\n",
    "from PIL import Image, ImageDraw, ImageFont\n"
   ]
  },
  {
   "cell_type": "code",
   "execution_count": null,
   "id": "163bdd07-149f-489a-8512-8bfcd785ceff",
   "metadata": {},
   "outputs": [],
   "source": [
    "set_seed(42)\n",
    "generator = pipeline(\"text-generation\", model=\"gpt2\")  # or \"EleutherAI/gpt-neo-1.3B\"\n"
   ]
  },
  {
   "cell_type": "code",
   "execution_count": 3,
   "id": "827f8103-af60-4c5b-8074-c76455c05ec5",
   "metadata": {},
   "outputs": [],
   "source": [
    "def generate_story(prompt, genre=\"fantasy\", max_length=200, num_stories=3):\n",
    "    genre_prompt = f\"This is a {genre} story.\\n{prompt}\"\n",
    "    outputs = generator(genre_prompt, \n",
    "                        max_length=max_length, \n",
    "                        num_return_sequences=num_stories,\n",
    "                        do_sample=True, \n",
    "                        top_k=50, \n",
    "                        top_p=0.95)\n",
    "    return [o[\"generated_text\"].strip() for o in outputs]\n"
   ]
  },
  {
   "cell_type": "code",
   "execution_count": null,
   "id": "ccfbcce1-88ec-4a69-8c43-76d944471837",
   "metadata": {},
   "outputs": [],
   "source": [
    "def gradio_interface(prompt, genre, max_length, num_stories):\n",
    "    stories = generate_story(prompt, genre, max_length, num_stories)\n",
    "    story_text = \"\\n\\n---\\n\\n\".join([f\"Option {i+1}:\\n{story}\" for i, story in enumerate(stories)])\n",
    "    return story_text\n",
    "\n",
    "gr.Interface(\n",
    "    fn=gradio_interface,\n",
    "    inputs=[\n",
    "        gr.Textbox(lines=6, label=\"Story Prompt\", placeholder=\"The knight entered the ruined temple...\"),\n",
    "        gr.Dropdown([\"fantasy\", \"mystery\", \"sci-fi\", \"post-apocalyptic\", \"mythical\", \"adventure\"], label=\"Genre\"),\n",
    "        gr.Slider(50, 400, value=200, label=\"Max Story Length\"),\n",
    "        gr.Slider(1, 5, value=3, label=\"Number of Story Options\")\n",
    "    ],\n",
    "    outputs=gr.Textbox(label=\"Generated Story Options\"),\n",
    "    title=\"🧙 AI Dungeon Story Generator\",\n",
    "    description=\"Create fantasy/mystery/sci-fi stories using GPT-2\",\n",
    "    theme=\"default\"\n",
    ").launch(inline=True, share=True)"
   ]
  },
  {
   "cell_type": "code",
   "execution_count": 8,
   "id": "30f7d649-7522-4bdb-8a02-95da537e0289",
   "metadata": {},
   "outputs": [],
   "source": [
    "def save_story_image(text, filename=\"story_output.png\"):\n",
    "    # Create an image from text\n",
    "    img = Image.new('RGB', (1000, 1400), color=(255, 255, 255))\n",
    "    draw = ImageDraw.Draw(img)\n",
    "    \n",
    "    # Use default font\n",
    "    font = ImageFont.load_default()\n",
    "    \n",
    "    # Wrap and draw text\n",
    "    lines = text.split('\\n')\n",
    "    y_text = 10\n",
    "    for line in lines:\n",
    "        draw.text((10, y_text), line, font=font, fill=(0, 0, 0))\n",
    "        y_text += 15\n",
    "    \n",
    "    img.save(filename)\n",
    "    print(f\"✅ Saved image as {filename}\")\n"
   ]
  }
 ],
 "metadata": {
  "kernelspec": {
   "display_name": "Python 3 (ipykernel)",
   "language": "python",
   "name": "python3"
  },
  "language_info": {
   "codemirror_mode": {
    "name": "ipython",
    "version": 3
   },
   "file_extension": ".py",
   "mimetype": "text/x-python",
   "name": "python",
   "nbconvert_exporter": "python",
   "pygments_lexer": "ipython3",
   "version": "3.12.7"
  }
 },
 "nbformat": 4,
 "nbformat_minor": 5
}
